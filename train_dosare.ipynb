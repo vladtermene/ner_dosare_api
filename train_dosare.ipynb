{
 "cells": [
  {
   "cell_type": "code",
   "execution_count": null,
   "metadata": {},
   "outputs": [],
   "source": [
    "from google.colab import drive\n",
    "drive.mount('/content/drive')"
   ]
  },
  {
   "cell_type": "code",
   "execution_count": null,
   "metadata": {},
   "outputs": [],
   "source": [
    "!unzip /content/drive/My\\ Drive/dosare.zip"
   ]
  },
  {
   "cell_type": "code",
   "execution_count": null,
   "metadata": {},
   "outputs": [],
   "source": [
    "%load_ext autoreload\n",
    "%autoreload 2"
   ]
  },
  {
   "cell_type": "code",
   "execution_count": null,
   "metadata": {},
   "outputs": [],
   "source": [
    "!pip install -r requirements.txt"
   ]
  },
  {
   "cell_type": "code",
   "execution_count": null,
   "metadata": {},
   "outputs": [],
   "source": [
    "!python3 model_step1.py \\\n",
    "--gpus 1 \\\n",
    "--batch_size 32 \\\n",
    "--accumulate_grad_batches 1 \\\n",
    "--model_name dumitrescustefan/bert-base-romanian-cased-v1 \\\n",
    "--lr 3e-05 \\\n",
    "--model_max_length 512 \\\n",
    "--train_file data/train_step1.json \\\n",
    "--validation_file data/valid_step1.json \\\n",
    "--test_file data/test_step1.json"
   ]
  },
  {
   "cell_type": "code",
   "execution_count": null,
   "metadata": {},
   "outputs": [],
   "source": [
    "!python3 model_step2.py \\\n",
    "--gpus 1 \\\n",
    "--batch_size 32 \\\n",
    "--accumulate_grad_batches 1 \\\n",
    "--model_name trained_model1/model \\\n",
    "--tokenizer_name dumitrescustefan/bert-base-romanian-cased-v1 \\\n",
    "--lr 3e-05 \\\n",
    "--model_max_length 512 \\\n",
    "--train_file data/train_step2.json \\\n",
    "--validation_file data/valid_step2.json \\\n",
    "--test_file data/test_step2.json"
   ]
  },
  {
   "cell_type": "code",
   "execution_count": null,
   "metadata": {},
   "outputs": [],
   "source": [
    "import os\n",
    "import zipfile\n",
    "    \n",
    "def zipdir(path, ziph):\n",
    "    # ziph is zipfile handle\n",
    "    for root, dirs, files in os.walk(path):\n",
    "        for file in files:\n",
    "            ziph.write(os.path.join(root, file), \n",
    "                       os.path.relpath(os.path.join(root, file), \n",
    "                                       os.path.join(path, '..')))\n",
    "      \n",
    "zipf = zipfile.ZipFile(\"/content/drive/My Drive/model_dosare.zip\", 'w', zipfile.ZIP_DEFLATED)\n",
    "zipdir('trained_model2/', zipf)\n",
    "zipf.close()"
   ]
  }
 ],
 "metadata": {
  "language_info": {
   "name": "python"
  },
  "orig_nbformat": 4
 },
 "nbformat": 4,
 "nbformat_minor": 2
}
